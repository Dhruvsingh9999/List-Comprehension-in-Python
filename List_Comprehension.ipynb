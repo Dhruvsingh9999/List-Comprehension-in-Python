{
 "cells": [
  {
   "cell_type": "code",
   "execution_count": 41,
   "metadata": {},
   "outputs": [
    {
     "name": "stdout",
     "output_type": "stream",
     "text": [
      "[4, 16, 9, 25, 36, 49]\n"
     ]
    }
   ],
   "source": [
    "#list comprehension\n",
    "#syntax: [expression for item in list]\n",
    "\n",
    "#for loop\n",
    "nums=[2,4,3,5,6,7]\n",
    "sq=[]\n",
    "for num in nums:\n",
    "    sq.append(num**2)\n",
    "print(sq)"
   ]
  },
  {
   "cell_type": "code",
   "execution_count": 42,
   "metadata": {},
   "outputs": [
    {
     "name": "stdout",
     "output_type": "stream",
     "text": [
      "[4, 16, 9, 25, 36, 49]\n"
     ]
    }
   ],
   "source": [
    "nums=[2,4,3,5,6,6]\n",
    "print([num**2 for num in nums])"
   ]
  },
  {
   "cell_type": "code",
   "execution_count": 43,
   "metadata": {},
   "outputs": [
    {
     "name": "stdout",
     "output_type": "stream",
     "text": [
      "[4, 16, 4, 36]\n"
     ]
    }
   ],
   "source": [
    "#if with for loop\n",
    "nums=[2,5,4,2,6,9]\n",
    "sq=[]\n",
    "for num in nums:\n",
    "    if num%2==0:\n",
    "        sq.append(num**2)\n",
    "print(sq)"
   ]
  },
  {
   "cell_type": "code",
   "execution_count": 44,
   "metadata": {},
   "outputs": [
    {
     "name": "stdout",
     "output_type": "stream",
     "text": [
      "[4, 16, 4, 36]\n"
     ]
    }
   ],
   "source": [
    "nums=[2,5,4,2,6,9]\n",
    "print([ num**2 for num in nums if num%2==0 ])"
   ]
  },
  {
   "cell_type": "code",
   "execution_count": 45,
   "metadata": {},
   "outputs": [
    {
     "name": "stdout",
     "output_type": "stream",
     "text": [
      "[36]\n"
     ]
    }
   ],
   "source": [
    "#nested if\n",
    "nums=[3,4,5,6,7,8,9]\n",
    "sq=[]\n",
    "for num in nums:\n",
    "    if num%2==0:\n",
    "        if num%3==0:\n",
    "            sq.append(num**2) \n",
    "print(sq)\n"
   ]
  },
  {
   "cell_type": "code",
   "execution_count": 46,
   "metadata": {},
   "outputs": [
    {
     "name": "stdout",
     "output_type": "stream",
     "text": [
      "[36]\n"
     ]
    }
   ],
   "source": [
    "print([num**2 for num in nums if num%2==0 if num%3==0])"
   ]
  },
  {
   "cell_type": "code",
   "execution_count": 66,
   "metadata": {},
   "outputs": [
    {
     "name": "stdout",
     "output_type": "stream",
     "text": [
      "[4, 125, 36, 27, 343, 16, 729]\n"
     ]
    }
   ],
   "source": [
    "#nested if\n",
    "nums=[2,5,6,3,7,4,9]\n",
    "sq=[]\n",
    "for num in nums:\n",
    "    if num%2==0:\n",
    "        sq.append(num*num)\n",
    "    else:\n",
    "        sq.append(num*num*num)\n",
    "print(sq)"
   ]
  },
  {
   "cell_type": "code",
   "execution_count": 52,
   "metadata": {},
   "outputs": [
    {
     "name": "stdout",
     "output_type": "stream",
     "text": [
      "[27, 16, 125, 36, 343, 64, 729]\n"
     ]
    }
   ],
   "source": [
    "\n",
    "print([num*num if num%2==0 else num*num*num for num in nums])"
   ]
  },
  {
   "cell_type": "code",
   "execution_count": 59,
   "metadata": {},
   "outputs": [
    {
     "name": "stdout",
     "output_type": "stream",
     "text": [
      "[15, 18, 20, 24, 25, 30]\n"
     ]
    }
   ],
   "source": [
    "#nested for loop\n",
    "lst=[]\n",
    "for i in range (3,6):\n",
    "    for j in range (5,7):\n",
    "        lst.append(i*j)\n",
    "print(lst)"
   ]
  },
  {
   "cell_type": "code",
   "execution_count": 57,
   "metadata": {},
   "outputs": [
    {
     "name": "stdout",
     "output_type": "stream",
     "text": [
      "[15, 18, 20, 24, 25, 30]\n"
     ]
    }
   ],
   "source": [
    "print([i*j for i in range(3,6) for j in range (5,7)])"
   ]
  },
  {
   "cell_type": "code",
   "execution_count": 65,
   "metadata": {},
   "outputs": [
    {
     "name": "stdout",
     "output_type": "stream",
     "text": [
      "['zero', 'positive', 'positive', 'negative', 'zero', 'negative', 'positive', 'negative']\n"
     ]
    }
   ],
   "source": [
    "# if-elif-else in list comprehension\n",
    "nums=[0,3,4,-3,0,-5,8,-9]\n",
    "status=[]\n",
    "for num in nums:\n",
    "    if num>0:\n",
    "        status.append('positive')\n",
    "    elif num<0:\n",
    "        status.append(\"negative\")\n",
    "    else:\n",
    "        status.append(\"zero\")\n",
    "print(status)\n",
    "            "
   ]
  },
  {
   "cell_type": "code",
   "execution_count": 71,
   "metadata": {},
   "outputs": [
    {
     "name": "stdout",
     "output_type": "stream",
     "text": [
      "['zero', 'positive', 'positive', 'zero', 'zero', 'zero', 'positive', 'zero']\n"
     ]
    }
   ],
   "source": [
    "nums=[0,3,4,-3,0,-5,8,-9]\n",
    "print(['positive' if num>0 else 'negative' if num>0 else 'zero' for num in nums])"
   ]
  },
  {
   "cell_type": "code",
   "execution_count": 2,
   "metadata": {},
   "outputs": [
    {
     "name": "stdout",
     "output_type": "stream",
     "text": [
      "['even', 'even', 'even', 'even']\n"
     ]
    }
   ],
   "source": [
    "data = []\n",
    "for num in range(1,10):\n",
    "    if num%2==0:\n",
    "        data.append('even')\n",
    "print(data)\n",
    "        "
   ]
  },
  {
   "cell_type": "code",
   "execution_count": 3,
   "metadata": {},
   "outputs": [
    {
     "name": "stdout",
     "output_type": "stream",
     "text": [
      "['even', 'even', 'even', 'even']\n"
     ]
    }
   ],
   "source": [
    "print([\"even\" for num in range(1,10) if num%2==0])"
   ]
  },
  {
   "cell_type": "code",
   "execution_count": 4,
   "metadata": {},
   "outputs": [
    {
     "name": "stdout",
     "output_type": "stream",
     "text": [
      "['odd', 'even', 'odd', 'even', 'odd', 'even', 'odd', 'even', 'odd']\n"
     ]
    }
   ],
   "source": [
    "data=[]\n",
    "for num in range(1,10):\n",
    "    if num%2==0:\n",
    "        data.append(\"even\")\n",
    "    else:\n",
    "        data.append(\"odd\")\n",
    "print(data)"
   ]
  },
  {
   "cell_type": "code",
   "execution_count": 7,
   "metadata": {},
   "outputs": [
    {
     "name": "stdout",
     "output_type": "stream",
     "text": [
      "['odd', 'even', 'odd', 'even', 'odd', 'even', 'odd', 'even', 'odd']\n"
     ]
    }
   ],
   "source": [
    "print([\"even\" if num%2==0 else \"odd\" for num in range(1,10) ])"
   ]
  },
  {
   "cell_type": "code",
   "execution_count": 11,
   "metadata": {},
   "outputs": [
    {
     "name": "stdout",
     "output_type": "stream",
     "text": [
      "['B', 'A', 'A', 'C', 'C', 'B', 'A', 'A', 'A', 'A', 'failed or Invalid Marks']\n"
     ]
    }
   ],
   "source": [
    "#list comprehension --> if-elif-else\n",
    "\n",
    "results=[]\n",
    "marks=[75,97,89,63,66,78,90,94,86,98,50]\n",
    "for m in marks:\n",
    "    if m>=80 and m<=100:\n",
    "        results.append(\"A\")\n",
    "    elif m>=70 and m<=80:\n",
    "        results.append(\"B\")\n",
    "    elif m>=60 and m<=70:\n",
    "        results.append(\"C\")\n",
    "    else:\n",
    "        results.append(\"failed or Invalid Marks\")\n",
    "print(results)\n",
    "        \n"
   ]
  },
  {
   "cell_type": "code",
   "execution_count": 12,
   "metadata": {},
   "outputs": [
    {
     "name": "stdout",
     "output_type": "stream",
     "text": [
      "['B', 'A', 'A', 'C', 'C', 'B', 'A', 'A', 'A', 'A', 'failed or Invalid Mark']\n"
     ]
    }
   ],
   "source": [
    "print([\"A\" if m>=80 and m<=100 else \"B\" if m>=70 and m<=80 else \"C\" if m>=60 and m<=70 else \"failed or Invalid Mark\" for m in marks])"
   ]
  },
  {
   "cell_type": "code",
   "execution_count": 13,
   "metadata": {},
   "outputs": [
    {
     "name": "stdout",
     "output_type": "stream",
     "text": [
      "{1: 1, 2: 4, 3: 9, 4: 16, 5: 25}\n"
     ]
    }
   ],
   "source": [
    "#Dictionary comprehension\n",
    "#syntax {key:value for key,value in iterable}\n",
    "\n",
    "nums=[1,2,3,4,5]\n",
    "my_dict={}\n",
    "for num in nums:\n",
    "    my_dict[num]=num**2\n",
    "print(my_dict)"
   ]
  },
  {
   "cell_type": "code",
   "execution_count": 14,
   "metadata": {},
   "outputs": [
    {
     "name": "stdout",
     "output_type": "stream",
     "text": [
      "{1: 1, 2: 4, 3: 9, 4: 16, 5: 25}\n"
     ]
    }
   ],
   "source": [
    "print({num:num**2 for num in nums})"
   ]
  },
  {
   "cell_type": "code",
   "execution_count": 15,
   "metadata": {},
   "outputs": [
    {
     "name": "stdout",
     "output_type": "stream",
     "text": [
      "{2: 4, 4: 16}\n"
     ]
    }
   ],
   "source": [
    "nums=[1,2,3,4,5]\n",
    "my_dict={}\n",
    "for num in nums:\n",
    "    if num%2==0:\n",
    "        my_dict[num]=num**2\n",
    "print(my_dict)"
   ]
  },
  {
   "cell_type": "code",
   "execution_count": 16,
   "metadata": {},
   "outputs": [
    {
     "name": "stdout",
     "output_type": "stream",
     "text": [
      "{2: 4, 4: 16}\n"
     ]
    }
   ],
   "source": [
    "print({num:num**2 for num in nums if num%2==0})"
   ]
  },
  {
   "cell_type": "code",
   "execution_count": 18,
   "metadata": {},
   "outputs": [
    {
     "name": "stdout",
     "output_type": "stream",
     "text": [
      "{'C': (99, 67), 'O': (79, 111), 'D': (100, 68), 'I': (105, 73), 'N': (110, 78), 'G': (103, 71)}\n"
     ]
    }
   ],
   "source": [
    "str1=\"cOding\"\n",
    "my_dict={}\n",
    "for char in str1:\n",
    "    my_dict[char.upper()]=(ord(char),ord(char.swapcase()))\n",
    "print(my_dict)"
   ]
  },
  {
   "cell_type": "code",
   "execution_count": 19,
   "metadata": {},
   "outputs": [
    {
     "name": "stdout",
     "output_type": "stream",
     "text": [
      "{'C': (99, 67), 'O': (79, 111), 'D': (100, 68), 'I': (105, 73), 'N': (110, 78), 'G': (103, 71)}\n"
     ]
    }
   ],
   "source": [
    "print({char.upper():(ord(char),ord(char.swapcase())) for char in str1})"
   ]
  },
  {
   "cell_type": "code",
   "execution_count": 23,
   "metadata": {},
   "outputs": [
    {
     "name": "stdout",
     "output_type": "stream",
     "text": [
      "{64, 1, 4, 36, 49, 81, 25}\n"
     ]
    }
   ],
   "source": [
    "#set comprehension\n",
    "#syntax {expression for item in iterable}\n",
    "\n",
    "nums=[1,2,2,2,5,6,7,8,9]\n",
    "sq=set()\n",
    "for num in nums:\n",
    "    sq.add(num**2)\n",
    "print(sq)"
   ]
  },
  {
   "cell_type": "code",
   "execution_count": 21,
   "metadata": {},
   "outputs": [
    {
     "name": "stdout",
     "output_type": "stream",
     "text": [
      "{64, 1, 4, 36, 49, 81, 25}\n"
     ]
    }
   ],
   "source": [
    "nums=[1,2,2,2,5,6,7,8,9]\n",
    "print({n**2 for n in nums})"
   ]
  }
 ],
 "metadata": {
  "kernelspec": {
   "display_name": "Python 3",
   "language": "python",
   "name": "python3"
  },
  "language_info": {
   "codemirror_mode": {
    "name": "ipython",
    "version": 3
   },
   "file_extension": ".py",
   "mimetype": "text/x-python",
   "name": "python",
   "nbconvert_exporter": "python",
   "pygments_lexer": "ipython3",
   "version": "3.13.1"
  }
 },
 "nbformat": 4,
 "nbformat_minor": 2
}
